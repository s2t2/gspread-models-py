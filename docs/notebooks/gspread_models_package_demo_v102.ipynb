{
  "nbformat": 4,
  "nbformat_minor": 0,
  "metadata": {
    "colab": {
      "provenance": [],
      "toc_visible": true
    },
    "kernelspec": {
      "name": "python3",
      "display_name": "Python 3"
    },
    "language_info": {
      "name": "python"
    }
  },
  "cells": [
    {
      "cell_type": "markdown",
      "source": [
        "### Package Installation"
      ],
      "metadata": {
        "id": "dVY-MEQMfBKx"
      }
    },
    {
      "cell_type": "markdown",
      "source": [
        "Package installation:"
      ],
      "metadata": {
        "id": "iRNmtlPzg4-i"
      }
    },
    {
      "cell_type": "code",
      "execution_count": 11,
      "metadata": {
        "id": "4AHQ9Raue_bn"
      },
      "outputs": [],
      "source": [
        "%%capture\n",
        "#!pip uninstall gspread_models\n",
        "!pip install gspread_models==1.0.2 # --upgrade"
      ]
    },
    {
      "cell_type": "code",
      "source": [
        "!pip list | grep gspread_models"
      ],
      "metadata": {
        "colab": {
          "base_uri": "https://localhost:8080/"
        },
        "id": "sAo-H0FafPVy",
        "outputId": "c29a18fa-8dc9-47c5-dcb2-197e8bb07120"
      },
      "execution_count": 12,
      "outputs": [
        {
          "output_type": "stream",
          "name": "stdout",
          "text": [
            "gspread_models                   1.0.2\n"
          ]
        }
      ]
    },
    {
      "cell_type": "markdown",
      "source": [
        "### Google Credentials"
      ],
      "metadata": {
        "id": "e1i24s_Ugx4o"
      }
    },
    {
      "cell_type": "code",
      "source": [
        "from google.colab import auth\n",
        "\n",
        "auth.authenticate_user()"
      ],
      "metadata": {
        "id": "HlOn7AgKFh1R"
      },
      "execution_count": 13,
      "outputs": []
    },
    {
      "cell_type": "code",
      "source": [
        "from google.auth import default\n",
        "\n",
        "creds, _ = default()\n",
        "type(creds)"
      ],
      "metadata": {
        "colab": {
          "base_uri": "https://localhost:8080/",
          "height": 203
        },
        "id": "Ib7gP85SG3CG",
        "outputId": "57b386cc-bdf8-49cd-ee66-6b525b00cf1f"
      },
      "execution_count": 14,
      "outputs": [
        {
          "output_type": "execute_result",
          "data": {
            "text/plain": [
              "google.auth.compute_engine.credentials.Credentials"
            ],
            "text/html": [
              "<div style=\"max-width:800px; border: 1px solid var(--colab-border-color);\"><style>\n",
              "      pre.function-repr-contents {\n",
              "        overflow-x: auto;\n",
              "        padding: 8px 12px;\n",
              "        max-height: 500px;\n",
              "      }\n",
              "\n",
              "      pre.function-repr-contents.function-repr-contents-collapsed {\n",
              "        cursor: pointer;\n",
              "        max-height: 100px;\n",
              "      }\n",
              "    </style>\n",
              "    <pre style=\"white-space: initial; background:\n",
              "         var(--colab-secondary-surface-color); padding: 8px 12px;\n",
              "         border-bottom: 1px solid var(--colab-border-color);\"><b>google.auth.compute_engine.credentials.Credentials</b><br/>def __init__(service_account_email=&#x27;default&#x27;, quota_project_id=None, scopes=None, default_scopes=None, universe_domain=None)</pre><pre class=\"function-repr-contents function-repr-contents-collapsed\" style=\"\"><a class=\"filepath\" style=\"display:none\" href=\"#\">/usr/local/lib/python3.10/dist-packages/google/auth/compute_engine/credentials.py</a>Compute Engine Credentials.\n",
              "\n",
              "These credentials use the Google Compute Engine metadata server to obtain\n",
              "OAuth 2.0 access tokens associated with the instance&#x27;s service account,\n",
              "and are also used for Cloud Run, Flex and App Engine (except for the Python\n",
              "2.7 runtime, which is supported only on older versions of this library).\n",
              "\n",
              "For more information about Compute Engine authentication, including how\n",
              "to configure scopes, see the `Compute Engine authentication\n",
              "documentation`_.\n",
              "\n",
              ".. note:: On Compute Engine the metadata server ignores requested scopes.\n",
              "    On Cloud Run, Flex and App Engine the server honours requested scopes.\n",
              "\n",
              ".. _Compute Engine authentication documentation:\n",
              "    https://cloud.google.com/compute/docs/authentication#using</pre>\n",
              "      <script>\n",
              "      if (google.colab.kernel.accessAllowed && google.colab.files && google.colab.files.view) {\n",
              "        for (const element of document.querySelectorAll('.filepath')) {\n",
              "          element.style.display = 'block'\n",
              "          element.onclick = (event) => {\n",
              "            event.preventDefault();\n",
              "            event.stopPropagation();\n",
              "            google.colab.files.view(element.textContent, 35);\n",
              "          };\n",
              "        }\n",
              "      }\n",
              "      for (const element of document.querySelectorAll('.function-repr-contents')) {\n",
              "        element.onclick = (event) => {\n",
              "          event.preventDefault();\n",
              "          event.stopPropagation();\n",
              "          element.classList.toggle('function-repr-contents-collapsed');\n",
              "        };\n",
              "      }\n",
              "      </script>\n",
              "      </div>"
            ]
          },
          "metadata": {},
          "execution_count": 14
        }
      ]
    },
    {
      "cell_type": "markdown",
      "source": [
        "### Spreadsheet Service"
      ],
      "metadata": {
        "id": "OG5YBx0CdSYx"
      }
    },
    {
      "cell_type": "markdown",
      "source": [
        "Create a Google Sheets document with \"books\" sheet, with columns: `id`, `title`, `author`, `year`, and `created_at`. Note the document identifier, and set it as the `GSPREAD_MODELS_DOCUMENT_ID` notebook secret."
      ],
      "metadata": {
        "id": "OGjaDr9Vez0e"
      }
    },
    {
      "cell_type": "code",
      "source": [
        "from google.colab import userdata\n",
        "\n",
        "GOOGLE_SHEETS_DOCUMENT_ID = userdata.get(\"GSPREAD_MODELS_DOCUMENT_ID\")"
      ],
      "metadata": {
        "id": "J4eXoNQHgawN"
      },
      "execution_count": 15,
      "outputs": []
    },
    {
      "cell_type": "markdown",
      "source": [
        "Build a new service instance:"
      ],
      "metadata": {
        "id": "pSQ8SNOkj6h9"
      }
    },
    {
      "cell_type": "code",
      "source": [
        "from gspread_models.service import SpreadsheetService\n",
        "\n",
        "service = SpreadsheetService(creds=creds, document_id=GOOGLE_SHEETS_DOCUMENT_ID)"
      ],
      "metadata": {
        "colab": {
          "base_uri": "https://localhost:8080/"
        },
        "id": "6mqMJycrgpZC",
        "outputId": "b2d79925-1566-434a-b7f6-3b299facf9ef"
      },
      "execution_count": 16,
      "outputs": [
        {
          "output_type": "stream",
          "name": "stdout",
          "text": [
            "SPREADSHEET SERVICE...\n",
            "DOCUMENT ID: 1Nk-UBd-3TyWZqbWSvKIIF-S_KKdrkVFRVeNrFy_F1gs\n"
          ]
        }
      ]
    },
    {
      "cell_type": "code",
      "source": [
        "service.doc"
      ],
      "metadata": {
        "colab": {
          "base_uri": "https://localhost:8080/"
        },
        "id": "MsySNzYWkBak",
        "outputId": "b17eb578-c1c1-44b6-e19b-744e8b3278c3"
      },
      "execution_count": 17,
      "outputs": [
        {
          "output_type": "execute_result",
          "data": {
            "text/plain": [
              "<Spreadsheet 'GSpread Models (Test Database)' id:1Nk-UBd-3TyWZqbWSvKIIF-S_KKdrkVFRVeNrFy_F1gs>"
            ]
          },
          "metadata": {},
          "execution_count": 17
        }
      ]
    },
    {
      "cell_type": "code",
      "source": [
        "for sheet in service.sheets:\n",
        "    print(sheet.title)"
      ],
      "metadata": {
        "colab": {
          "base_uri": "https://localhost:8080/"
        },
        "id": "FXBBG3dwj95e",
        "outputId": "f2bb171b-1f65-4ca0-d3ac-1a587f52e95e"
      },
      "execution_count": 18,
      "outputs": [
        {
          "output_type": "stream",
          "name": "stdout",
          "text": [
            "Info\n",
            "products\n",
            "orders\n",
            "books\n"
          ]
        }
      ]
    },
    {
      "cell_type": "markdown",
      "source": [
        "### Binding the Model"
      ],
      "metadata": {
        "id": "zGcO45SgdWy6"
      }
    },
    {
      "cell_type": "markdown",
      "source": [
        "Bind the base model with access to your account credentials and your document:"
      ],
      "metadata": {
        "id": "wM3DWDLwjJz2"
      }
    },
    {
      "cell_type": "code",
      "source": [
        "from gspread_models.base import BaseModel\n",
        "\n",
        "BaseModel.service = service\n",
        "#BaseModel.set_document_id(GOOGLE_SHEETS_DOCUMENT_ID) # not necessary since we are binding at the service level"
      ],
      "metadata": {
        "id": "TZNcgKtjgIvH"
      },
      "execution_count": 21,
      "outputs": []
    },
    {
      "cell_type": "markdown",
      "source": [
        "### Model Class"
      ],
      "metadata": {
        "id": "ZAMpwfwZdb-U"
      }
    },
    {
      "cell_type": "markdown",
      "source": [
        "Now, defining custom class that inherits from the base model:"
      ],
      "metadata": {
        "id": "1094P6NBjTNq"
      }
    },
    {
      "cell_type": "code",
      "source": [
        "class Book(BaseModel):\n",
        "\n",
        "    SHEET_NAME = \"books\"\n",
        "\n",
        "    COLUMNS = [\"title\", \"author\", \"year\"]\n",
        "\n",
        "    SEEDS = [\n",
        "        {\"title\": \"To Kill a Mockingbird\", \"author\": \"Harper Lee\", \"year\": 1960},\n",
        "        {\"title\": \"1984\", \"author\": \"George Orwell\", \"year\": 1949},\n",
        "        {\"title\": \"The Great Gatsby\", \"author\": \"F. Scott Fitzgerald\", \"year\": 1925},\n",
        "        {\"title\": \"The Catcher in the Rye\", \"author\": \"J.D. Salinger\", \"year\": 1951},\n",
        "        {\"title\": \"Pride and Prejudice\", \"author\": \"Jane Austen\", \"year\": 1813},\n",
        "        {\"title\": \"To the Lighthouse\", \"author\": \"Virginia Woolf\", \"year\": 1927},\n",
        "        {\"title\": \"The Hobbit\", \"author\": \"J.R.R. Tolkien\", \"year\": 1937},\n",
        "        {\"title\": \"Moby-Dick\", \"author\": \"Herman Melville\", \"year\": 1851},\n",
        "        {\"title\": \"Brave New World\", \"author\": \"Aldous Huxley\", \"year\": 1932},\n",
        "        {\"title\": \"Alice's Adventures in Wonderland\", \"author\": \"Lewis Carroll\", \"year\": 1865},\n",
        "        {\"title\": \"Harry Potter and the Philosopher's Stone\", \"author\": \"J.K. Rowling\", \"year\": 1997},\n",
        "        {\"title\": \"Harry Potter and the Chamber of Secrets\", \"author\": \"J.K. Rowling\", \"year\": 1998},\n",
        "    ]"
      ],
      "metadata": {
        "id": "GYTgcrjMfIrA"
      },
      "execution_count": 22,
      "outputs": []
    },
    {
      "cell_type": "markdown",
      "source": [
        "### Queries"
      ],
      "metadata": {
        "id": "9L_sHhcsdfzX"
      }
    },
    {
      "cell_type": "markdown",
      "source": [
        "Destroy all records:"
      ],
      "metadata": {
        "id": "hAGNABrldiRb"
      }
    },
    {
      "cell_type": "code",
      "source": [
        "Book.destroy_all()"
      ],
      "metadata": {
        "colab": {
          "base_uri": "https://localhost:8080/"
        },
        "id": "o3mSWe0Wroy8",
        "outputId": "e6e30c14-ce90-4e61-cb85-94e6b459fc21"
      },
      "execution_count": 23,
      "outputs": [
        {
          "output_type": "stream",
          "name": "stdout",
          "text": [
            "SHEET ('books')...\n"
          ]
        },
        {
          "output_type": "execute_result",
          "data": {
            "text/plain": [
              "{'spreadsheetId': '1Nk-UBd-3TyWZqbWSvKIIF-S_KKdrkVFRVeNrFy_F1gs',\n",
              " 'replies': [{}]}"
            ]
          },
          "metadata": {},
          "execution_count": 23
        }
      ]
    },
    {
      "cell_type": "markdown",
      "source": [
        "Populate sheet with default records:"
      ],
      "metadata": {
        "id": "kYRFnqBGdkXA"
      }
    },
    {
      "cell_type": "code",
      "source": [
        "Book.seed()"
      ],
      "metadata": {
        "colab": {
          "base_uri": "https://localhost:8080/"
        },
        "id": "meLRpTPtcubm",
        "outputId": "e9c7ee52-91d8-4437-a7ed-8b1d43b2b321"
      },
      "execution_count": 24,
      "outputs": [
        {
          "output_type": "stream",
          "name": "stdout",
          "text": [
            "SHEET ('books')...\n"
          ]
        },
        {
          "output_type": "execute_result",
          "data": {
            "text/plain": [
              "{'spreadsheetId': '1Nk-UBd-3TyWZqbWSvKIIF-S_KKdrkVFRVeNrFy_F1gs',\n",
              " 'tableRange': 'books!A1:F1',\n",
              " 'updates': {'spreadsheetId': '1Nk-UBd-3TyWZqbWSvKIIF-S_KKdrkVFRVeNrFy_F1gs',\n",
              "  'updatedRange': 'books!A2:E13',\n",
              "  'updatedRows': 12,\n",
              "  'updatedColumns': 5,\n",
              "  'updatedCells': 60}}"
            ]
          },
          "metadata": {},
          "execution_count": 24
        }
      ]
    },
    {
      "cell_type": "markdown",
      "source": [
        "Fetch all records from the sheet:"
      ],
      "metadata": {
        "id": "w3fb_9_Xdmhi"
      }
    },
    {
      "cell_type": "code",
      "source": [
        "books = Book.all()\n",
        "len(books)"
      ],
      "metadata": {
        "colab": {
          "base_uri": "https://localhost:8080/"
        },
        "id": "0ilfQfXkcwmn",
        "outputId": "11723dc3-585e-404e-ecc0-3cc63bba2e36"
      },
      "execution_count": 25,
      "outputs": [
        {
          "output_type": "stream",
          "name": "stdout",
          "text": [
            "SHEET ('books')...\n"
          ]
        },
        {
          "output_type": "execute_result",
          "data": {
            "text/plain": [
              "12"
            ]
          },
          "metadata": {},
          "execution_count": 25
        }
      ]
    },
    {
      "cell_type": "code",
      "source": [
        "for book in books:\n",
        "    print(book.id, book.title, book.author, sep=\" | \")\n",
        "    # book.created_at.strftime(\"%Y-%m-%d\")"
      ],
      "metadata": {
        "colab": {
          "base_uri": "https://localhost:8080/"
        },
        "id": "q0mnDu7Ic2-Q",
        "outputId": "f3bea808-bd61-4854-a305-6ec6397a9b5a"
      },
      "execution_count": 30,
      "outputs": [
        {
          "output_type": "stream",
          "name": "stdout",
          "text": [
            "1 | To Kill a Mockingbird | Harper Lee\n",
            "2 | 1984 | George Orwell\n",
            "3 | The Great Gatsby | F. Scott Fitzgerald\n",
            "4 | The Catcher in the Rye | J.D. Salinger\n",
            "5 | Pride and Prejudice | Jane Austen\n",
            "6 | To the Lighthouse | Virginia Woolf\n",
            "7 | The Hobbit | J.R.R. Tolkien\n",
            "8 | Moby-Dick | Herman Melville\n",
            "9 | Brave New World | Aldous Huxley\n",
            "10 | Alice's Adventures in Wonderland | Lewis Carroll\n",
            "11 | Harry Potter and the Philosopher's Stone | J.K. Rowling\n",
            "12 | Harry Potter and the Chamber of Secrets | J.K. Rowling\n"
          ]
        }
      ]
    },
    {
      "cell_type": "markdown",
      "source": [
        "Find record by id:"
      ],
      "metadata": {
        "id": "beMrbSlsdvAI"
      }
    },
    {
      "cell_type": "code",
      "source": [
        "book = Book.find(3)\n",
        "dict(book)"
      ],
      "metadata": {
        "colab": {
          "base_uri": "https://localhost:8080/"
        },
        "id": "ynt7cK9-drjw",
        "outputId": "58b5a342-8507-4896-903d-473ef6f43831"
      },
      "execution_count": 32,
      "outputs": [
        {
          "output_type": "stream",
          "name": "stdout",
          "text": [
            "SHEET ('books')...\n"
          ]
        },
        {
          "output_type": "execute_result",
          "data": {
            "text/plain": [
              "{'id': 3,\n",
              " 'title': 'The Great Gatsby',\n",
              " 'author': 'F. Scott Fitzgerald',\n",
              " 'year': 1925,\n",
              " 'created_at': datetime.datetime(2024, 3, 27, 1, 7, 50, 916904, tzinfo=datetime.timezone.utc)}"
            ]
          },
          "metadata": {},
          "execution_count": 32
        }
      ]
    },
    {
      "cell_type": "markdown",
      "source": [
        "Filter records on matching conditions:\n"
      ],
      "metadata": {
        "id": "zXbOGHfGdo3_"
      }
    },
    {
      "cell_type": "code",
      "source": [
        "book = Book.where(author=\"F. Scott Fitzgerald\")[0]\n",
        "dict(book)"
      ],
      "metadata": {
        "colab": {
          "base_uri": "https://localhost:8080/"
        },
        "id": "Ym0-l6_vd8yi",
        "outputId": "472e87f2-1066-4b80-86c8-f0dc6e336367"
      },
      "execution_count": 33,
      "outputs": [
        {
          "output_type": "stream",
          "name": "stdout",
          "text": [
            "SHEET ('books')...\n"
          ]
        },
        {
          "output_type": "execute_result",
          "data": {
            "text/plain": [
              "{'id': 3,\n",
              " 'title': 'The Great Gatsby',\n",
              " 'author': 'F. Scott Fitzgerald',\n",
              " 'year': 1925,\n",
              " 'created_at': datetime.datetime(2024, 3, 27, 1, 7, 50, 916904, tzinfo=datetime.timezone.utc)}"
            ]
          },
          "metadata": {},
          "execution_count": 33
        }
      ]
    },
    {
      "cell_type": "code",
      "source": [
        "hp_books = Book.where(author=\"J.K. Rowling\")\n",
        "for book in hp_books:\n",
        "    print(book.id, book.title, book.author, sep=\" | \")"
      ],
      "metadata": {
        "colab": {
          "base_uri": "https://localhost:8080/"
        },
        "id": "2KsqY75aeIJ-",
        "outputId": "3bab9f23-2ef5-46ae-82eb-9d83c9854fda"
      },
      "execution_count": 34,
      "outputs": [
        {
          "output_type": "stream",
          "name": "stdout",
          "text": [
            "SHEET ('books')...\n",
            "11 | Harry Potter and the Philosopher's Stone | J.K. Rowling\n",
            "12 | Harry Potter and the Chamber of Secrets | J.K. Rowling\n"
          ]
        }
      ]
    }
  ]
}